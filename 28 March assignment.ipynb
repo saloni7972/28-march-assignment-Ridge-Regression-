{
 "cells": [
  {
   "cell_type": "markdown",
   "id": "cc1235f5-836f-4564-8491-c072f9daeef1",
   "metadata": {},
   "source": [
    "#27 MARCH ASSIGNMENT"
   ]
  },
  {
   "cell_type": "markdown",
   "id": "ad9b9c0e-38df-46ef-95dd-a90bab42d805",
   "metadata": {},
   "source": [
    "Q1. What is Ridge Regression, and how does it differ from ordinary least squares regression?"
   ]
  },
  {
   "cell_type": "markdown",
   "id": "9c4e192e-d21b-4594-b9ef-65187daaa134",
   "metadata": {},
   "source": [
    "#ANSWER==\n",
    "Ridge Regression is used to eliminate multicollinearity which occurs when two or more predictors in the dataset are highly correlated with each other.\n",
    "Ridge Regression add a panulty to the cost function to the shrink the coefficient towards zero,whereas OLS regression does not include any regularization techniques."
   ]
  },
  {
   "cell_type": "markdown",
   "id": "da19943a-a6d6-4559-b892-1aa9f2b3fefd",
   "metadata": {},
   "source": [
    "Q2. What are the assumptions of Ridge Regression?"
   ]
  },
  {
   "cell_type": "markdown",
   "id": "76dde976-6299-4196-9acd-cdf7a589d702",
   "metadata": {},
   "source": [
    "#ANSWER==\n",
    "The assumptions of ridge regression are the same as that of linear regression: linearity, constant variance, and independence. However, as ridge regression does not provide confidence limits, the distribution of errors to be normal need not be assumed."
   ]
  },
  {
   "cell_type": "markdown",
   "id": "c88e2619-663e-49aa-9f20-826e8308a405",
   "metadata": {},
   "source": [
    "Q3. How do you select the value of the tuning parameter (lambda) in Ridge Regression?"
   ]
  },
  {
   "cell_type": "markdown",
   "id": "f1fad927-2919-4781-8cde-fbdfcc787cbc",
   "metadata": {},
   "source": [
    "#ANSWER==\n",
    "The value of the panulty term lambda in Ridge Regression is used to control the amount of shrinkage applied to the coefficient. A large value of lambda result in greater shrinkage and a simler model , while a smaller value of lambda results in less shrinkage and a more complex model."
   ]
  },
  {
   "cell_type": "markdown",
   "id": "180a1519-9f5c-4792-8753-084fa1c7dd66",
   "metadata": {},
   "source": [
    "Q4. Can Ridge Regression be used for feature selection? If yes, how?"
   ]
  },
  {
   "cell_type": "markdown",
   "id": "7c447aa4-8c3d-41ae-b794-71930d228bfe",
   "metadata": {},
   "source": [
    "#ANSWER==\n",
    " ridge regression is used to get rid of overfitting which can also be reduced by fitting the model with only important features. Ridge regression can also help us in feature selection to find out the important features required for modelling purposes."
   ]
  },
  {
   "cell_type": "markdown",
   "id": "931e29ba-45ba-4b94-bf1b-20d1a8444588",
   "metadata": {},
   "source": [
    "Q5. How does the Ridge Regression model perform in the presence of multicollinearity?"
   ]
  },
  {
   "cell_type": "markdown",
   "id": "ce499f8d-618c-43fd-a0f9-92f742f8bb95",
   "metadata": {},
   "source": [
    "#ANSWER==\n",
    "Multicollinearity happens when predictor variables exhibit a correlation among themselves. Ridge regression aims at reducing the standard error by adding some bias in the estimates of the regression. The reduction of the standard error in regression estimates significantly increases the reliability of the estimates."
   ]
  },
  {
   "cell_type": "markdown",
   "id": "c3a6b7a0-66c7-4ee5-ae9a-40c5b775fb33",
   "metadata": {},
   "source": [
    "Q6. Can Ridge Regression handle both categorical and continuous independent variables?"
   ]
  },
  {
   "cell_type": "markdown",
   "id": "6226a24e-aa87-4877-a9c5-f414925a3f20",
   "metadata": {},
   "source": [
    "#ANSWER==\n",
    "Categorical variables require special attention in regression analysis because, unlike dichotomous or continuous variables, they cannot by entered into the regression equation just as they are. Instead, they need to be recoded into a series of variables which can then be entered into the regression model."
   ]
  },
  {
   "cell_type": "markdown",
   "id": "2b0597d7-433f-4918-a192-88a166f5ac03",
   "metadata": {},
   "source": [
    "Q7. How do you interpret the coefficients of Ridge Regression?"
   ]
  },
  {
   "cell_type": "markdown",
   "id": "0619067b-9275-45c4-94a2-3a33d74cba8e",
   "metadata": {},
   "source": [
    "#ANSWER==\n",
    "The ridge coefficients are a reduced factor of the simple linear regression coefficients and thus never attain zero values but very small values. The lasso coefficients become zero in a certain range and are reduced by a constant factor, which explains their low magnitude in comparison to the ridge"
   ]
  },
  {
   "cell_type": "markdown",
   "id": "9bfd3c85-24ab-4a71-b962-e609e0a20183",
   "metadata": {},
   "source": [
    "Q8. Can Ridge Regression be used for time-series data analysis? If yes, how?"
   ]
  },
  {
   "cell_type": "code",
   "execution_count": null,
   "id": "04f3de24-4b6d-437f-95e7-76681ccb239a",
   "metadata": {},
   "outputs": [],
   "source": [
    "#ANSWER==\n"
   ]
  }
 ],
 "metadata": {
  "kernelspec": {
   "display_name": "Python 3 (ipykernel)",
   "language": "python",
   "name": "python3"
  },
  "language_info": {
   "codemirror_mode": {
    "name": "ipython",
    "version": 3
   },
   "file_extension": ".py",
   "mimetype": "text/x-python",
   "name": "python",
   "nbconvert_exporter": "python",
   "pygments_lexer": "ipython3",
   "version": "3.10.8"
  }
 },
 "nbformat": 4,
 "nbformat_minor": 5
}
